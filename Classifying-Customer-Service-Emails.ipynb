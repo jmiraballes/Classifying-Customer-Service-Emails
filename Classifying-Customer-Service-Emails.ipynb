{
 "cells": [
  {
   "cell_type": "markdown",
   "metadata": {},
   "source": [
    "# Project: Classifiyng Tickets in Customer Support"
   ]
  },
  {
   "cell_type": "code",
   "execution_count": 1,
   "metadata": {},
   "outputs": [],
   "source": [
    "import pandas as pd\n",
    "import numpy as np\n",
    "import random\n",
    "from scipy import stats\n",
    "import statistics as stat\n",
    "import string\n",
    "import re\n",
    "import seaborn as sns\n",
    "import matplotlib as plt"
   ]
  },
  {
   "cell_type": "code",
   "execution_count": 2,
   "metadata": {},
   "outputs": [],
   "source": [
    "import nltk"
   ]
  },
  {
   "cell_type": "code",
   "execution_count": 3,
   "metadata": {},
   "outputs": [],
   "source": [
    "df = pd.read_csv('C:\\\\Users\\\\mirab\\\\Desktop\\\\Bivariat\\\\Casos_de_Estudio\\\\Tickets\\\\tickets.csv', encoding='iso-8859-1')"
   ]
  },
  {
   "cell_type": "code",
   "execution_count": 4,
   "metadata": {},
   "outputs": [
    {
     "data": {
      "text/html": [
       "<div>\n",
       "<style scoped>\n",
       "    .dataframe tbody tr th:only-of-type {\n",
       "        vertical-align: middle;\n",
       "    }\n",
       "\n",
       "    .dataframe tbody tr th {\n",
       "        vertical-align: top;\n",
       "    }\n",
       "\n",
       "    .dataframe thead th {\n",
       "        text-align: right;\n",
       "    }\n",
       "</style>\n",
       "<table border=\"1\" class=\"dataframe\">\n",
       "  <thead>\n",
       "    <tr style=\"text-align: right;\">\n",
       "      <th></th>\n",
       "      <th>Fuente</th>\n",
       "      <th>Descripción</th>\n",
       "      <th>Quién Llamó</th>\n",
       "      <th>Agente</th>\n",
       "      <th>Prioridad p/él</th>\n",
       "      <th>Pendiente Respuesta</th>\n",
       "      <th>Nº FAQ</th>\n",
       "      <th>Estado</th>\n",
       "      <th>Tipo Ticket</th>\n",
       "      <th>Coment.Interno</th>\n",
       "      <th>Coment.Final</th>\n",
       "      <th>Cantidad de Llamados</th>\n",
       "      <th>Usuario Creador</th>\n",
       "      <th>Modificado</th>\n",
       "    </tr>\n",
       "  </thead>\n",
       "  <tbody>\n",
       "    <tr>\n",
       "      <th>0</th>\n",
       "      <td>Albarenga Bordad, Carla Micaela</td>\n",
       "      <td>pepe</td>\n",
       "      <td>mica</td>\n",
       "      <td>Micaela</td>\n",
       "      <td>1. Máxima</td>\n",
       "      <td>16/05/2018 00:00</td>\n",
       "      <td>NaN</td>\n",
       "      <td>Esperando por cliente</td>\n",
       "      <td>Implementación</td>\n",
       "      <td>NaN</td>\n",
       "      <td>prueba prueba finalizado</td>\n",
       "      <td>2.0</td>\n",
       "      <td>Carolina</td>\n",
       "      <td>08/02/2021 12:43:07</td>\n",
       "    </tr>\n",
       "    <tr>\n",
       "      <th>1</th>\n",
       "      <td>Albarenga Bordad, Carla Micaela</td>\n",
       "      <td>qdfk{dfasdfasd</td>\n",
       "      <td>Mica</td>\n",
       "      <td>Micaela</td>\n",
       "      <td>1. Máxima</td>\n",
       "      <td>17/05/2018 00:00</td>\n",
       "      <td>NaN</td>\n",
       "      <td>Finalizado</td>\n",
       "      <td>Implementación</td>\n",
       "      <td>NaN</td>\n",
       "      <td>NaN</td>\n",
       "      <td>1.0</td>\n",
       "      <td>Carolina</td>\n",
       "      <td>08/02/2021 12:41:34</td>\n",
       "    </tr>\n",
       "    <tr>\n",
       "      <th>2</th>\n",
       "      <td>Silvialy S.R.l</td>\n",
       "      <td>Se realiza micro reunion lite</td>\n",
       "      <td>NaN</td>\n",
       "      <td>Majo</td>\n",
       "      <td>3. Media</td>\n",
       "      <td>21/10/2019 00:00</td>\n",
       "      <td>NaN</td>\n",
       "      <td>Finalizado</td>\n",
       "      <td>Implementación</td>\n",
       "      <td>NaN</td>\n",
       "      <td>NaN</td>\n",
       "      <td>NaN</td>\n",
       "      <td>Majo</td>\n",
       "      <td>21/10/2019 11:45:48</td>\n",
       "    </tr>\n",
       "    <tr>\n",
       "      <th>3</th>\n",
       "      <td>Cema Sa</td>\n",
       "      <td>Se realiza micro reunion lite</td>\n",
       "      <td>NaN</td>\n",
       "      <td>Majo</td>\n",
       "      <td>3. Media</td>\n",
       "      <td>21/10/2019 00:00</td>\n",
       "      <td>NaN</td>\n",
       "      <td>Pendiente</td>\n",
       "      <td>Dudas de funcionamiento</td>\n",
       "      <td>NaN</td>\n",
       "      <td>NaN</td>\n",
       "      <td>NaN</td>\n",
       "      <td>Majo</td>\n",
       "      <td>21/10/2019 11:44:51</td>\n",
       "    </tr>\n",
       "    <tr>\n",
       "      <th>4</th>\n",
       "      <td>La Papelera</td>\n",
       "      <td>Configurar reportes de e factura</td>\n",
       "      <td>NaN</td>\n",
       "      <td>CamilaR</td>\n",
       "      <td>2. Alta</td>\n",
       "      <td>09/04/2019 00:00</td>\n",
       "      <td>NaN</td>\n",
       "      <td>Finalizado y Enviado</td>\n",
       "      <td>e-Factura</td>\n",
       "      <td>#1038881</td>\n",
       "      <td>NaN</td>\n",
       "      <td>NaN</td>\n",
       "      <td>Majo</td>\n",
       "      <td>30/05/2019 10:26:30</td>\n",
       "    </tr>\n",
       "    <tr>\n",
       "      <th>...</th>\n",
       "      <td>...</td>\n",
       "      <td>...</td>\n",
       "      <td>...</td>\n",
       "      <td>...</td>\n",
       "      <td>...</td>\n",
       "      <td>...</td>\n",
       "      <td>...</td>\n",
       "      <td>...</td>\n",
       "      <td>...</td>\n",
       "      <td>...</td>\n",
       "      <td>...</td>\n",
       "      <td>...</td>\n",
       "      <td>...</td>\n",
       "      <td>...</td>\n",
       "    </tr>\n",
       "    <tr>\n",
       "      <th>44086</th>\n",
       "      <td>Rontil S.A.</td>\n",
       "      <td>Tiene una consulta sobre como realizar el cost...</td>\n",
       "      <td>Mónica</td>\n",
       "      <td>Micaela</td>\n",
       "      <td>NaN</td>\n",
       "      <td>NaN</td>\n",
       "      <td>NaN</td>\n",
       "      <td>NaN</td>\n",
       "      <td>NaN</td>\n",
       "      <td>NaN</td>\n",
       "      <td>NaN</td>\n",
       "      <td>NaN</td>\n",
       "      <td>Majo</td>\n",
       "      <td>20/06/2016 10:52:19</td>\n",
       "    </tr>\n",
       "    <tr>\n",
       "      <th>44087</th>\n",
       "      <td>Emec Ltda (Emec)</td>\n",
       "      <td>Puesto de trabajo</td>\n",
       "      <td>Gabriel</td>\n",
       "      <td>exCecilia</td>\n",
       "      <td>NaN</td>\n",
       "      <td>NaN</td>\n",
       "      <td>NaN</td>\n",
       "      <td>NaN</td>\n",
       "      <td>NaN</td>\n",
       "      <td>NaN</td>\n",
       "      <td>NaN</td>\n",
       "      <td>NaN</td>\n",
       "      <td>exCecilia</td>\n",
       "      <td>20/06/2016 10:37:03</td>\n",
       "    </tr>\n",
       "    <tr>\n",
       "      <th>44088</th>\n",
       "      <td>Superfiestas Cotillon (Inbrel S.A.)</td>\n",
       "      <td>correcciones E-factura</td>\n",
       "      <td>Carlos</td>\n",
       "      <td>Micaela</td>\n",
       "      <td>NaN</td>\n",
       "      <td>NaN</td>\n",
       "      <td>NaN</td>\n",
       "      <td>NaN</td>\n",
       "      <td>NaN</td>\n",
       "      <td>NaN</td>\n",
       "      <td>NaN</td>\n",
       "      <td>NaN</td>\n",
       "      <td>exCecilia</td>\n",
       "      <td>20/06/2016 10:29:17</td>\n",
       "    </tr>\n",
       "    <tr>\n",
       "      <th>44089</th>\n",
       "      <td>Emec Ltda (Emec)</td>\n",
       "      <td>Quiere hacer un recibo de cobro en una sucursa...</td>\n",
       "      <td>Gabriel</td>\n",
       "      <td>Micaela</td>\n",
       "      <td>NaN</td>\n",
       "      <td>NaN</td>\n",
       "      <td>NaN</td>\n",
       "      <td>NaN</td>\n",
       "      <td>NaN</td>\n",
       "      <td>NaN</td>\n",
       "      <td>NaN</td>\n",
       "      <td>NaN</td>\n",
       "      <td>exCecilia</td>\n",
       "      <td>20/06/2016 10:29:06</td>\n",
       "    </tr>\n",
       "    <tr>\n",
       "      <th>44090</th>\n",
       "      <td>Zunini, Andrés</td>\n",
       "      <td>Quiere sacar un balancete y no le salen las ci...</td>\n",
       "      <td>Andrés</td>\n",
       "      <td>Micaela</td>\n",
       "      <td>NaN</td>\n",
       "      <td>NaN</td>\n",
       "      <td>NaN</td>\n",
       "      <td>NaN</td>\n",
       "      <td>NaN</td>\n",
       "      <td>NaN</td>\n",
       "      <td>NaN</td>\n",
       "      <td>NaN</td>\n",
       "      <td>Majo</td>\n",
       "      <td>20/06/2016 10:28:58</td>\n",
       "    </tr>\n",
       "  </tbody>\n",
       "</table>\n",
       "<p>44091 rows × 14 columns</p>\n",
       "</div>"
      ],
      "text/plain": [
       "                                    Fuente  \\\n",
       "0          Albarenga Bordad, Carla Micaela   \n",
       "1          Albarenga Bordad, Carla Micaela   \n",
       "2                           Silvialy S.R.l   \n",
       "3                                  Cema Sa   \n",
       "4                              La Papelera   \n",
       "...                                    ...   \n",
       "44086                          Rontil S.A.   \n",
       "44087                     Emec Ltda (Emec)   \n",
       "44088  Superfiestas Cotillon (Inbrel S.A.)   \n",
       "44089                     Emec Ltda (Emec)   \n",
       "44090                       Zunini, Andrés   \n",
       "\n",
       "                                             Descripción Quién Llamó  \\\n",
       "0                                                   pepe        mica   \n",
       "1                                         qdfk{dfasdfasd        Mica   \n",
       "2                          Se realiza micro reunion lite         NaN   \n",
       "3                          Se realiza micro reunion lite         NaN   \n",
       "4                       Configurar reportes de e factura         NaN   \n",
       "...                                                  ...         ...   \n",
       "44086  Tiene una consulta sobre como realizar el cost...      Mónica   \n",
       "44087                                  Puesto de trabajo     Gabriel   \n",
       "44088                             correcciones E-factura      Carlos   \n",
       "44089  Quiere hacer un recibo de cobro en una sucursa...     Gabriel   \n",
       "44090  Quiere sacar un balancete y no le salen las ci...      Andrés   \n",
       "\n",
       "          Agente Prioridad p/él Pendiente Respuesta  Nº FAQ  \\\n",
       "0        Micaela      1. Máxima    16/05/2018 00:00     NaN   \n",
       "1        Micaela      1. Máxima    17/05/2018 00:00     NaN   \n",
       "2           Majo       3. Media    21/10/2019 00:00     NaN   \n",
       "3           Majo       3. Media    21/10/2019 00:00     NaN   \n",
       "4        CamilaR        2. Alta    09/04/2019 00:00     NaN   \n",
       "...          ...            ...                 ...     ...   \n",
       "44086    Micaela            NaN                 NaN     NaN   \n",
       "44087  exCecilia            NaN                 NaN     NaN   \n",
       "44088    Micaela            NaN                 NaN     NaN   \n",
       "44089    Micaela            NaN                 NaN     NaN   \n",
       "44090    Micaela            NaN                 NaN     NaN   \n",
       "\n",
       "                      Estado              Tipo Ticket Coment.Interno  \\\n",
       "0      Esperando por cliente           Implementación            NaN   \n",
       "1                 Finalizado           Implementación            NaN   \n",
       "2                 Finalizado           Implementación            NaN   \n",
       "3                  Pendiente  Dudas de funcionamiento            NaN   \n",
       "4       Finalizado y Enviado                e-Factura       #1038881   \n",
       "...                      ...                      ...            ...   \n",
       "44086                    NaN                      NaN            NaN   \n",
       "44087                    NaN                      NaN            NaN   \n",
       "44088                    NaN                      NaN            NaN   \n",
       "44089                    NaN                      NaN            NaN   \n",
       "44090                    NaN                      NaN            NaN   \n",
       "\n",
       "                   Coment.Final  Cantidad de Llamados Usuario Creador  \\\n",
       "0      prueba prueba finalizado                   2.0        Carolina   \n",
       "1                           NaN                   1.0        Carolina   \n",
       "2                           NaN                   NaN            Majo   \n",
       "3                           NaN                   NaN            Majo   \n",
       "4                           NaN                   NaN            Majo   \n",
       "...                         ...                   ...             ...   \n",
       "44086                       NaN                   NaN            Majo   \n",
       "44087                       NaN                   NaN       exCecilia   \n",
       "44088                       NaN                   NaN       exCecilia   \n",
       "44089                       NaN                   NaN       exCecilia   \n",
       "44090                       NaN                   NaN            Majo   \n",
       "\n",
       "                Modificado  \n",
       "0      08/02/2021 12:43:07  \n",
       "1      08/02/2021 12:41:34  \n",
       "2      21/10/2019 11:45:48  \n",
       "3      21/10/2019 11:44:51  \n",
       "4      30/05/2019 10:26:30  \n",
       "...                    ...  \n",
       "44086  20/06/2016 10:52:19  \n",
       "44087  20/06/2016 10:37:03  \n",
       "44088  20/06/2016 10:29:17  \n",
       "44089  20/06/2016 10:29:06  \n",
       "44090  20/06/2016 10:28:58  \n",
       "\n",
       "[44091 rows x 14 columns]"
      ]
     },
     "execution_count": 4,
     "metadata": {},
     "output_type": "execute_result"
    }
   ],
   "source": [
    "df"
   ]
  },
  {
   "cell_type": "code",
   "execution_count": 5,
   "metadata": {},
   "outputs": [],
   "source": [
    "df = df.drop(['Fuente', 'Quién Llamó', 'Nº FAQ', 'Coment.Interno', 'Coment.Final', 'Usuario Creador'], axis=1)"
   ]
  },
  {
   "cell_type": "code",
   "execution_count": 6,
   "metadata": {},
   "outputs": [
    {
     "data": {
      "text/html": [
       "<div>\n",
       "<style scoped>\n",
       "    .dataframe tbody tr th:only-of-type {\n",
       "        vertical-align: middle;\n",
       "    }\n",
       "\n",
       "    .dataframe tbody tr th {\n",
       "        vertical-align: top;\n",
       "    }\n",
       "\n",
       "    .dataframe thead th {\n",
       "        text-align: right;\n",
       "    }\n",
       "</style>\n",
       "<table border=\"1\" class=\"dataframe\">\n",
       "  <thead>\n",
       "    <tr style=\"text-align: right;\">\n",
       "      <th></th>\n",
       "      <th>Descripción</th>\n",
       "      <th>Agente</th>\n",
       "      <th>Prioridad p/él</th>\n",
       "      <th>Pendiente Respuesta</th>\n",
       "      <th>Estado</th>\n",
       "      <th>Tipo Ticket</th>\n",
       "      <th>Cantidad de Llamados</th>\n",
       "      <th>Modificado</th>\n",
       "    </tr>\n",
       "  </thead>\n",
       "  <tbody>\n",
       "    <tr>\n",
       "      <th>0</th>\n",
       "      <td>pepe</td>\n",
       "      <td>Micaela</td>\n",
       "      <td>1. Máxima</td>\n",
       "      <td>16/05/2018 00:00</td>\n",
       "      <td>Esperando por cliente</td>\n",
       "      <td>Implementación</td>\n",
       "      <td>2.0</td>\n",
       "      <td>08/02/2021 12:43:07</td>\n",
       "    </tr>\n",
       "    <tr>\n",
       "      <th>1</th>\n",
       "      <td>qdfk{dfasdfasd</td>\n",
       "      <td>Micaela</td>\n",
       "      <td>1. Máxima</td>\n",
       "      <td>17/05/2018 00:00</td>\n",
       "      <td>Finalizado</td>\n",
       "      <td>Implementación</td>\n",
       "      <td>1.0</td>\n",
       "      <td>08/02/2021 12:41:34</td>\n",
       "    </tr>\n",
       "    <tr>\n",
       "      <th>2</th>\n",
       "      <td>Se realiza micro reunion lite</td>\n",
       "      <td>Majo</td>\n",
       "      <td>3. Media</td>\n",
       "      <td>21/10/2019 00:00</td>\n",
       "      <td>Finalizado</td>\n",
       "      <td>Implementación</td>\n",
       "      <td>NaN</td>\n",
       "      <td>21/10/2019 11:45:48</td>\n",
       "    </tr>\n",
       "    <tr>\n",
       "      <th>3</th>\n",
       "      <td>Se realiza micro reunion lite</td>\n",
       "      <td>Majo</td>\n",
       "      <td>3. Media</td>\n",
       "      <td>21/10/2019 00:00</td>\n",
       "      <td>Pendiente</td>\n",
       "      <td>Dudas de funcionamiento</td>\n",
       "      <td>NaN</td>\n",
       "      <td>21/10/2019 11:44:51</td>\n",
       "    </tr>\n",
       "    <tr>\n",
       "      <th>4</th>\n",
       "      <td>Configurar reportes de e factura</td>\n",
       "      <td>CamilaR</td>\n",
       "      <td>2. Alta</td>\n",
       "      <td>09/04/2019 00:00</td>\n",
       "      <td>Finalizado y Enviado</td>\n",
       "      <td>e-Factura</td>\n",
       "      <td>NaN</td>\n",
       "      <td>30/05/2019 10:26:30</td>\n",
       "    </tr>\n",
       "    <tr>\n",
       "      <th>...</th>\n",
       "      <td>...</td>\n",
       "      <td>...</td>\n",
       "      <td>...</td>\n",
       "      <td>...</td>\n",
       "      <td>...</td>\n",
       "      <td>...</td>\n",
       "      <td>...</td>\n",
       "      <td>...</td>\n",
       "    </tr>\n",
       "    <tr>\n",
       "      <th>44086</th>\n",
       "      <td>Tiene una consulta sobre como realizar el cost...</td>\n",
       "      <td>Micaela</td>\n",
       "      <td>NaN</td>\n",
       "      <td>NaN</td>\n",
       "      <td>NaN</td>\n",
       "      <td>NaN</td>\n",
       "      <td>NaN</td>\n",
       "      <td>20/06/2016 10:52:19</td>\n",
       "    </tr>\n",
       "    <tr>\n",
       "      <th>44087</th>\n",
       "      <td>Puesto de trabajo</td>\n",
       "      <td>exCecilia</td>\n",
       "      <td>NaN</td>\n",
       "      <td>NaN</td>\n",
       "      <td>NaN</td>\n",
       "      <td>NaN</td>\n",
       "      <td>NaN</td>\n",
       "      <td>20/06/2016 10:37:03</td>\n",
       "    </tr>\n",
       "    <tr>\n",
       "      <th>44088</th>\n",
       "      <td>correcciones E-factura</td>\n",
       "      <td>Micaela</td>\n",
       "      <td>NaN</td>\n",
       "      <td>NaN</td>\n",
       "      <td>NaN</td>\n",
       "      <td>NaN</td>\n",
       "      <td>NaN</td>\n",
       "      <td>20/06/2016 10:29:17</td>\n",
       "    </tr>\n",
       "    <tr>\n",
       "      <th>44089</th>\n",
       "      <td>Quiere hacer un recibo de cobro en una sucursa...</td>\n",
       "      <td>Micaela</td>\n",
       "      <td>NaN</td>\n",
       "      <td>NaN</td>\n",
       "      <td>NaN</td>\n",
       "      <td>NaN</td>\n",
       "      <td>NaN</td>\n",
       "      <td>20/06/2016 10:29:06</td>\n",
       "    </tr>\n",
       "    <tr>\n",
       "      <th>44090</th>\n",
       "      <td>Quiere sacar un balancete y no le salen las ci...</td>\n",
       "      <td>Micaela</td>\n",
       "      <td>NaN</td>\n",
       "      <td>NaN</td>\n",
       "      <td>NaN</td>\n",
       "      <td>NaN</td>\n",
       "      <td>NaN</td>\n",
       "      <td>20/06/2016 10:28:58</td>\n",
       "    </tr>\n",
       "  </tbody>\n",
       "</table>\n",
       "<p>44091 rows × 8 columns</p>\n",
       "</div>"
      ],
      "text/plain": [
       "                                             Descripción     Agente  \\\n",
       "0                                                   pepe    Micaela   \n",
       "1                                         qdfk{dfasdfasd    Micaela   \n",
       "2                          Se realiza micro reunion lite       Majo   \n",
       "3                          Se realiza micro reunion lite       Majo   \n",
       "4                       Configurar reportes de e factura    CamilaR   \n",
       "...                                                  ...        ...   \n",
       "44086  Tiene una consulta sobre como realizar el cost...    Micaela   \n",
       "44087                                  Puesto de trabajo  exCecilia   \n",
       "44088                             correcciones E-factura    Micaela   \n",
       "44089  Quiere hacer un recibo de cobro en una sucursa...    Micaela   \n",
       "44090  Quiere sacar un balancete y no le salen las ci...    Micaela   \n",
       "\n",
       "      Prioridad p/él Pendiente Respuesta                 Estado  \\\n",
       "0          1. Máxima    16/05/2018 00:00  Esperando por cliente   \n",
       "1          1. Máxima    17/05/2018 00:00             Finalizado   \n",
       "2           3. Media    21/10/2019 00:00             Finalizado   \n",
       "3           3. Media    21/10/2019 00:00              Pendiente   \n",
       "4            2. Alta    09/04/2019 00:00   Finalizado y Enviado   \n",
       "...              ...                 ...                    ...   \n",
       "44086            NaN                 NaN                    NaN   \n",
       "44087            NaN                 NaN                    NaN   \n",
       "44088            NaN                 NaN                    NaN   \n",
       "44089            NaN                 NaN                    NaN   \n",
       "44090            NaN                 NaN                    NaN   \n",
       "\n",
       "                   Tipo Ticket  Cantidad de Llamados           Modificado  \n",
       "0               Implementación                   2.0  08/02/2021 12:43:07  \n",
       "1               Implementación                   1.0  08/02/2021 12:41:34  \n",
       "2               Implementación                   NaN  21/10/2019 11:45:48  \n",
       "3      Dudas de funcionamiento                   NaN  21/10/2019 11:44:51  \n",
       "4                    e-Factura                   NaN  30/05/2019 10:26:30  \n",
       "...                        ...                   ...                  ...  \n",
       "44086                      NaN                   NaN  20/06/2016 10:52:19  \n",
       "44087                      NaN                   NaN  20/06/2016 10:37:03  \n",
       "44088                      NaN                   NaN  20/06/2016 10:29:17  \n",
       "44089                      NaN                   NaN  20/06/2016 10:29:06  \n",
       "44090                      NaN                   NaN  20/06/2016 10:28:58  \n",
       "\n",
       "[44091 rows x 8 columns]"
      ]
     },
     "execution_count": 6,
     "metadata": {},
     "output_type": "execute_result"
    }
   ],
   "source": [
    "df"
   ]
  },
  {
   "cell_type": "code",
   "execution_count": 7,
   "metadata": {},
   "outputs": [],
   "source": [
    "df = df.rename(columns=({'Descripción':'Texto', 'Prioridad p/él':'Prioridad', 'Pendiente Respuesta':'Fecha Ingreso', 'Modificado':'Cierre'}))"
   ]
  },
  {
   "cell_type": "code",
   "execution_count": 8,
   "metadata": {},
   "outputs": [
    {
     "data": {
      "text/html": [
       "<div>\n",
       "<style scoped>\n",
       "    .dataframe tbody tr th:only-of-type {\n",
       "        vertical-align: middle;\n",
       "    }\n",
       "\n",
       "    .dataframe tbody tr th {\n",
       "        vertical-align: top;\n",
       "    }\n",
       "\n",
       "    .dataframe thead th {\n",
       "        text-align: right;\n",
       "    }\n",
       "</style>\n",
       "<table border=\"1\" class=\"dataframe\">\n",
       "  <thead>\n",
       "    <tr style=\"text-align: right;\">\n",
       "      <th></th>\n",
       "      <th>Texto</th>\n",
       "      <th>Agente</th>\n",
       "      <th>Prioridad</th>\n",
       "      <th>Fecha Ingreso</th>\n",
       "      <th>Estado</th>\n",
       "      <th>Tipo Ticket</th>\n",
       "      <th>Cantidad de Llamados</th>\n",
       "      <th>Cierre</th>\n",
       "    </tr>\n",
       "  </thead>\n",
       "  <tbody>\n",
       "    <tr>\n",
       "      <th>0</th>\n",
       "      <td>pepe</td>\n",
       "      <td>Micaela</td>\n",
       "      <td>1. Máxima</td>\n",
       "      <td>16/05/2018 00:00</td>\n",
       "      <td>Esperando por cliente</td>\n",
       "      <td>Implementación</td>\n",
       "      <td>2.0</td>\n",
       "      <td>08/02/2021 12:43:07</td>\n",
       "    </tr>\n",
       "    <tr>\n",
       "      <th>1</th>\n",
       "      <td>qdfk{dfasdfasd</td>\n",
       "      <td>Micaela</td>\n",
       "      <td>1. Máxima</td>\n",
       "      <td>17/05/2018 00:00</td>\n",
       "      <td>Finalizado</td>\n",
       "      <td>Implementación</td>\n",
       "      <td>1.0</td>\n",
       "      <td>08/02/2021 12:41:34</td>\n",
       "    </tr>\n",
       "    <tr>\n",
       "      <th>2</th>\n",
       "      <td>Se realiza micro reunion lite</td>\n",
       "      <td>Majo</td>\n",
       "      <td>3. Media</td>\n",
       "      <td>21/10/2019 00:00</td>\n",
       "      <td>Finalizado</td>\n",
       "      <td>Implementación</td>\n",
       "      <td>NaN</td>\n",
       "      <td>21/10/2019 11:45:48</td>\n",
       "    </tr>\n",
       "    <tr>\n",
       "      <th>3</th>\n",
       "      <td>Se realiza micro reunion lite</td>\n",
       "      <td>Majo</td>\n",
       "      <td>3. Media</td>\n",
       "      <td>21/10/2019 00:00</td>\n",
       "      <td>Pendiente</td>\n",
       "      <td>Dudas de funcionamiento</td>\n",
       "      <td>NaN</td>\n",
       "      <td>21/10/2019 11:44:51</td>\n",
       "    </tr>\n",
       "    <tr>\n",
       "      <th>4</th>\n",
       "      <td>Configurar reportes de e factura</td>\n",
       "      <td>CamilaR</td>\n",
       "      <td>2. Alta</td>\n",
       "      <td>09/04/2019 00:00</td>\n",
       "      <td>Finalizado y Enviado</td>\n",
       "      <td>e-Factura</td>\n",
       "      <td>NaN</td>\n",
       "      <td>30/05/2019 10:26:30</td>\n",
       "    </tr>\n",
       "    <tr>\n",
       "      <th>...</th>\n",
       "      <td>...</td>\n",
       "      <td>...</td>\n",
       "      <td>...</td>\n",
       "      <td>...</td>\n",
       "      <td>...</td>\n",
       "      <td>...</td>\n",
       "      <td>...</td>\n",
       "      <td>...</td>\n",
       "    </tr>\n",
       "    <tr>\n",
       "      <th>44086</th>\n",
       "      <td>Tiene una consulta sobre como realizar el cost...</td>\n",
       "      <td>Micaela</td>\n",
       "      <td>NaN</td>\n",
       "      <td>NaN</td>\n",
       "      <td>NaN</td>\n",
       "      <td>NaN</td>\n",
       "      <td>NaN</td>\n",
       "      <td>20/06/2016 10:52:19</td>\n",
       "    </tr>\n",
       "    <tr>\n",
       "      <th>44087</th>\n",
       "      <td>Puesto de trabajo</td>\n",
       "      <td>exCecilia</td>\n",
       "      <td>NaN</td>\n",
       "      <td>NaN</td>\n",
       "      <td>NaN</td>\n",
       "      <td>NaN</td>\n",
       "      <td>NaN</td>\n",
       "      <td>20/06/2016 10:37:03</td>\n",
       "    </tr>\n",
       "    <tr>\n",
       "      <th>44088</th>\n",
       "      <td>correcciones E-factura</td>\n",
       "      <td>Micaela</td>\n",
       "      <td>NaN</td>\n",
       "      <td>NaN</td>\n",
       "      <td>NaN</td>\n",
       "      <td>NaN</td>\n",
       "      <td>NaN</td>\n",
       "      <td>20/06/2016 10:29:17</td>\n",
       "    </tr>\n",
       "    <tr>\n",
       "      <th>44089</th>\n",
       "      <td>Quiere hacer un recibo de cobro en una sucursa...</td>\n",
       "      <td>Micaela</td>\n",
       "      <td>NaN</td>\n",
       "      <td>NaN</td>\n",
       "      <td>NaN</td>\n",
       "      <td>NaN</td>\n",
       "      <td>NaN</td>\n",
       "      <td>20/06/2016 10:29:06</td>\n",
       "    </tr>\n",
       "    <tr>\n",
       "      <th>44090</th>\n",
       "      <td>Quiere sacar un balancete y no le salen las ci...</td>\n",
       "      <td>Micaela</td>\n",
       "      <td>NaN</td>\n",
       "      <td>NaN</td>\n",
       "      <td>NaN</td>\n",
       "      <td>NaN</td>\n",
       "      <td>NaN</td>\n",
       "      <td>20/06/2016 10:28:58</td>\n",
       "    </tr>\n",
       "  </tbody>\n",
       "</table>\n",
       "<p>44091 rows × 8 columns</p>\n",
       "</div>"
      ],
      "text/plain": [
       "                                                   Texto     Agente  \\\n",
       "0                                                   pepe    Micaela   \n",
       "1                                         qdfk{dfasdfasd    Micaela   \n",
       "2                          Se realiza micro reunion lite       Majo   \n",
       "3                          Se realiza micro reunion lite       Majo   \n",
       "4                       Configurar reportes de e factura    CamilaR   \n",
       "...                                                  ...        ...   \n",
       "44086  Tiene una consulta sobre como realizar el cost...    Micaela   \n",
       "44087                                  Puesto de trabajo  exCecilia   \n",
       "44088                             correcciones E-factura    Micaela   \n",
       "44089  Quiere hacer un recibo de cobro en una sucursa...    Micaela   \n",
       "44090  Quiere sacar un balancete y no le salen las ci...    Micaela   \n",
       "\n",
       "       Prioridad     Fecha Ingreso                 Estado  \\\n",
       "0      1. Máxima  16/05/2018 00:00  Esperando por cliente   \n",
       "1      1. Máxima  17/05/2018 00:00             Finalizado   \n",
       "2       3. Media  21/10/2019 00:00             Finalizado   \n",
       "3       3. Media  21/10/2019 00:00              Pendiente   \n",
       "4        2. Alta  09/04/2019 00:00   Finalizado y Enviado   \n",
       "...          ...               ...                    ...   \n",
       "44086        NaN               NaN                    NaN   \n",
       "44087        NaN               NaN                    NaN   \n",
       "44088        NaN               NaN                    NaN   \n",
       "44089        NaN               NaN                    NaN   \n",
       "44090        NaN               NaN                    NaN   \n",
       "\n",
       "                   Tipo Ticket  Cantidad de Llamados               Cierre  \n",
       "0               Implementación                   2.0  08/02/2021 12:43:07  \n",
       "1               Implementación                   1.0  08/02/2021 12:41:34  \n",
       "2               Implementación                   NaN  21/10/2019 11:45:48  \n",
       "3      Dudas de funcionamiento                   NaN  21/10/2019 11:44:51  \n",
       "4                    e-Factura                   NaN  30/05/2019 10:26:30  \n",
       "...                        ...                   ...                  ...  \n",
       "44086                      NaN                   NaN  20/06/2016 10:52:19  \n",
       "44087                      NaN                   NaN  20/06/2016 10:37:03  \n",
       "44088                      NaN                   NaN  20/06/2016 10:29:17  \n",
       "44089                      NaN                   NaN  20/06/2016 10:29:06  \n",
       "44090                      NaN                   NaN  20/06/2016 10:28:58  \n",
       "\n",
       "[44091 rows x 8 columns]"
      ]
     },
     "execution_count": 8,
     "metadata": {},
     "output_type": "execute_result"
    }
   ],
   "source": [
    "df"
   ]
  },
  {
   "cell_type": "code",
   "execution_count": 9,
   "metadata": {},
   "outputs": [],
   "source": [
    "df['Especialidad'] = 'NaN'\n",
    "df['Tipo de Producto'] = 'NaN'\n",
    "df['Rating'] = 'NaN'"
   ]
  },
  {
   "cell_type": "code",
   "execution_count": 10,
   "metadata": {},
   "outputs": [
    {
     "data": {
      "text/html": [
       "<div>\n",
       "<style scoped>\n",
       "    .dataframe tbody tr th:only-of-type {\n",
       "        vertical-align: middle;\n",
       "    }\n",
       "\n",
       "    .dataframe tbody tr th {\n",
       "        vertical-align: top;\n",
       "    }\n",
       "\n",
       "    .dataframe thead th {\n",
       "        text-align: right;\n",
       "    }\n",
       "</style>\n",
       "<table border=\"1\" class=\"dataframe\">\n",
       "  <thead>\n",
       "    <tr style=\"text-align: right;\">\n",
       "      <th></th>\n",
       "      <th>Texto</th>\n",
       "      <th>Agente</th>\n",
       "      <th>Prioridad</th>\n",
       "      <th>Fecha Ingreso</th>\n",
       "      <th>Estado</th>\n",
       "      <th>Tipo Ticket</th>\n",
       "      <th>Cantidad de Llamados</th>\n",
       "      <th>Cierre</th>\n",
       "      <th>Especialidad</th>\n",
       "      <th>Tipo de Producto</th>\n",
       "      <th>Rating</th>\n",
       "    </tr>\n",
       "  </thead>\n",
       "  <tbody>\n",
       "    <tr>\n",
       "      <th>0</th>\n",
       "      <td>pepe</td>\n",
       "      <td>Micaela</td>\n",
       "      <td>1. Máxima</td>\n",
       "      <td>16/05/2018 00:00</td>\n",
       "      <td>Esperando por cliente</td>\n",
       "      <td>Implementación</td>\n",
       "      <td>2.0</td>\n",
       "      <td>08/02/2021 12:43:07</td>\n",
       "      <td>NaN</td>\n",
       "      <td>NaN</td>\n",
       "      <td>NaN</td>\n",
       "    </tr>\n",
       "    <tr>\n",
       "      <th>1</th>\n",
       "      <td>qdfk{dfasdfasd</td>\n",
       "      <td>Micaela</td>\n",
       "      <td>1. Máxima</td>\n",
       "      <td>17/05/2018 00:00</td>\n",
       "      <td>Finalizado</td>\n",
       "      <td>Implementación</td>\n",
       "      <td>1.0</td>\n",
       "      <td>08/02/2021 12:41:34</td>\n",
       "      <td>NaN</td>\n",
       "      <td>NaN</td>\n",
       "      <td>NaN</td>\n",
       "    </tr>\n",
       "    <tr>\n",
       "      <th>2</th>\n",
       "      <td>Se realiza micro reunion lite</td>\n",
       "      <td>Majo</td>\n",
       "      <td>3. Media</td>\n",
       "      <td>21/10/2019 00:00</td>\n",
       "      <td>Finalizado</td>\n",
       "      <td>Implementación</td>\n",
       "      <td>NaN</td>\n",
       "      <td>21/10/2019 11:45:48</td>\n",
       "      <td>NaN</td>\n",
       "      <td>NaN</td>\n",
       "      <td>NaN</td>\n",
       "    </tr>\n",
       "    <tr>\n",
       "      <th>3</th>\n",
       "      <td>Se realiza micro reunion lite</td>\n",
       "      <td>Majo</td>\n",
       "      <td>3. Media</td>\n",
       "      <td>21/10/2019 00:00</td>\n",
       "      <td>Pendiente</td>\n",
       "      <td>Dudas de funcionamiento</td>\n",
       "      <td>NaN</td>\n",
       "      <td>21/10/2019 11:44:51</td>\n",
       "      <td>NaN</td>\n",
       "      <td>NaN</td>\n",
       "      <td>NaN</td>\n",
       "    </tr>\n",
       "    <tr>\n",
       "      <th>4</th>\n",
       "      <td>Configurar reportes de e factura</td>\n",
       "      <td>CamilaR</td>\n",
       "      <td>2. Alta</td>\n",
       "      <td>09/04/2019 00:00</td>\n",
       "      <td>Finalizado y Enviado</td>\n",
       "      <td>e-Factura</td>\n",
       "      <td>NaN</td>\n",
       "      <td>30/05/2019 10:26:30</td>\n",
       "      <td>NaN</td>\n",
       "      <td>NaN</td>\n",
       "      <td>NaN</td>\n",
       "    </tr>\n",
       "    <tr>\n",
       "      <th>...</th>\n",
       "      <td>...</td>\n",
       "      <td>...</td>\n",
       "      <td>...</td>\n",
       "      <td>...</td>\n",
       "      <td>...</td>\n",
       "      <td>...</td>\n",
       "      <td>...</td>\n",
       "      <td>...</td>\n",
       "      <td>...</td>\n",
       "      <td>...</td>\n",
       "      <td>...</td>\n",
       "    </tr>\n",
       "    <tr>\n",
       "      <th>44086</th>\n",
       "      <td>Tiene una consulta sobre como realizar el cost...</td>\n",
       "      <td>Micaela</td>\n",
       "      <td>NaN</td>\n",
       "      <td>NaN</td>\n",
       "      <td>NaN</td>\n",
       "      <td>NaN</td>\n",
       "      <td>NaN</td>\n",
       "      <td>20/06/2016 10:52:19</td>\n",
       "      <td>NaN</td>\n",
       "      <td>NaN</td>\n",
       "      <td>NaN</td>\n",
       "    </tr>\n",
       "    <tr>\n",
       "      <th>44087</th>\n",
       "      <td>Puesto de trabajo</td>\n",
       "      <td>exCecilia</td>\n",
       "      <td>NaN</td>\n",
       "      <td>NaN</td>\n",
       "      <td>NaN</td>\n",
       "      <td>NaN</td>\n",
       "      <td>NaN</td>\n",
       "      <td>20/06/2016 10:37:03</td>\n",
       "      <td>NaN</td>\n",
       "      <td>NaN</td>\n",
       "      <td>NaN</td>\n",
       "    </tr>\n",
       "    <tr>\n",
       "      <th>44088</th>\n",
       "      <td>correcciones E-factura</td>\n",
       "      <td>Micaela</td>\n",
       "      <td>NaN</td>\n",
       "      <td>NaN</td>\n",
       "      <td>NaN</td>\n",
       "      <td>NaN</td>\n",
       "      <td>NaN</td>\n",
       "      <td>20/06/2016 10:29:17</td>\n",
       "      <td>NaN</td>\n",
       "      <td>NaN</td>\n",
       "      <td>NaN</td>\n",
       "    </tr>\n",
       "    <tr>\n",
       "      <th>44089</th>\n",
       "      <td>Quiere hacer un recibo de cobro en una sucursa...</td>\n",
       "      <td>Micaela</td>\n",
       "      <td>NaN</td>\n",
       "      <td>NaN</td>\n",
       "      <td>NaN</td>\n",
       "      <td>NaN</td>\n",
       "      <td>NaN</td>\n",
       "      <td>20/06/2016 10:29:06</td>\n",
       "      <td>NaN</td>\n",
       "      <td>NaN</td>\n",
       "      <td>NaN</td>\n",
       "    </tr>\n",
       "    <tr>\n",
       "      <th>44090</th>\n",
       "      <td>Quiere sacar un balancete y no le salen las ci...</td>\n",
       "      <td>Micaela</td>\n",
       "      <td>NaN</td>\n",
       "      <td>NaN</td>\n",
       "      <td>NaN</td>\n",
       "      <td>NaN</td>\n",
       "      <td>NaN</td>\n",
       "      <td>20/06/2016 10:28:58</td>\n",
       "      <td>NaN</td>\n",
       "      <td>NaN</td>\n",
       "      <td>NaN</td>\n",
       "    </tr>\n",
       "  </tbody>\n",
       "</table>\n",
       "<p>44091 rows × 11 columns</p>\n",
       "</div>"
      ],
      "text/plain": [
       "                                                   Texto     Agente  \\\n",
       "0                                                   pepe    Micaela   \n",
       "1                                         qdfk{dfasdfasd    Micaela   \n",
       "2                          Se realiza micro reunion lite       Majo   \n",
       "3                          Se realiza micro reunion lite       Majo   \n",
       "4                       Configurar reportes de e factura    CamilaR   \n",
       "...                                                  ...        ...   \n",
       "44086  Tiene una consulta sobre como realizar el cost...    Micaela   \n",
       "44087                                  Puesto de trabajo  exCecilia   \n",
       "44088                             correcciones E-factura    Micaela   \n",
       "44089  Quiere hacer un recibo de cobro en una sucursa...    Micaela   \n",
       "44090  Quiere sacar un balancete y no le salen las ci...    Micaela   \n",
       "\n",
       "       Prioridad     Fecha Ingreso                 Estado  \\\n",
       "0      1. Máxima  16/05/2018 00:00  Esperando por cliente   \n",
       "1      1. Máxima  17/05/2018 00:00             Finalizado   \n",
       "2       3. Media  21/10/2019 00:00             Finalizado   \n",
       "3       3. Media  21/10/2019 00:00              Pendiente   \n",
       "4        2. Alta  09/04/2019 00:00   Finalizado y Enviado   \n",
       "...          ...               ...                    ...   \n",
       "44086        NaN               NaN                    NaN   \n",
       "44087        NaN               NaN                    NaN   \n",
       "44088        NaN               NaN                    NaN   \n",
       "44089        NaN               NaN                    NaN   \n",
       "44090        NaN               NaN                    NaN   \n",
       "\n",
       "                   Tipo Ticket  Cantidad de Llamados               Cierre  \\\n",
       "0               Implementación                   2.0  08/02/2021 12:43:07   \n",
       "1               Implementación                   1.0  08/02/2021 12:41:34   \n",
       "2               Implementación                   NaN  21/10/2019 11:45:48   \n",
       "3      Dudas de funcionamiento                   NaN  21/10/2019 11:44:51   \n",
       "4                    e-Factura                   NaN  30/05/2019 10:26:30   \n",
       "...                        ...                   ...                  ...   \n",
       "44086                      NaN                   NaN  20/06/2016 10:52:19   \n",
       "44087                      NaN                   NaN  20/06/2016 10:37:03   \n",
       "44088                      NaN                   NaN  20/06/2016 10:29:17   \n",
       "44089                      NaN                   NaN  20/06/2016 10:29:06   \n",
       "44090                      NaN                   NaN  20/06/2016 10:28:58   \n",
       "\n",
       "      Especialidad Tipo de Producto Rating  \n",
       "0              NaN              NaN    NaN  \n",
       "1              NaN              NaN    NaN  \n",
       "2              NaN              NaN    NaN  \n",
       "3              NaN              NaN    NaN  \n",
       "4              NaN              NaN    NaN  \n",
       "...            ...              ...    ...  \n",
       "44086          NaN              NaN    NaN  \n",
       "44087          NaN              NaN    NaN  \n",
       "44088          NaN              NaN    NaN  \n",
       "44089          NaN              NaN    NaN  \n",
       "44090          NaN              NaN    NaN  \n",
       "\n",
       "[44091 rows x 11 columns]"
      ]
     },
     "execution_count": 10,
     "metadata": {},
     "output_type": "execute_result"
    }
   ],
   "source": [
    "df"
   ]
  },
  {
   "cell_type": "code",
   "execution_count": 11,
   "metadata": {},
   "outputs": [
    {
     "data": {
      "text/html": [
       "<div>\n",
       "<style scoped>\n",
       "    .dataframe tbody tr th:only-of-type {\n",
       "        vertical-align: middle;\n",
       "    }\n",
       "\n",
       "    .dataframe tbody tr th {\n",
       "        vertical-align: top;\n",
       "    }\n",
       "\n",
       "    .dataframe thead th {\n",
       "        text-align: right;\n",
       "    }\n",
       "</style>\n",
       "<table border=\"1\" class=\"dataframe\">\n",
       "  <thead>\n",
       "    <tr style=\"text-align: right;\">\n",
       "      <th></th>\n",
       "      <th>Texto</th>\n",
       "      <th>Agente</th>\n",
       "      <th>Prioridad</th>\n",
       "      <th>Fecha Ingreso</th>\n",
       "      <th>Estado</th>\n",
       "      <th>Tipo Ticket</th>\n",
       "      <th>Cantidad de Llamados</th>\n",
       "      <th>Cierre</th>\n",
       "      <th>Especialidad</th>\n",
       "      <th>Tipo de Producto</th>\n",
       "      <th>Rating</th>\n",
       "    </tr>\n",
       "  </thead>\n",
       "  <tbody>\n",
       "    <tr>\n",
       "      <th>10588</th>\n",
       "      <td>NaN</td>\n",
       "      <td>NaN</td>\n",
       "      <td>NaN</td>\n",
       "      <td>NaN</td>\n",
       "      <td>NaN</td>\n",
       "      <td>NaN</td>\n",
       "      <td>NaN</td>\n",
       "      <td>01/06/2018 14:37:26</td>\n",
       "      <td>NaN</td>\n",
       "      <td>NaN</td>\n",
       "      <td>NaN</td>\n",
       "    </tr>\n",
       "    <tr>\n",
       "      <th>10598</th>\n",
       "      <td>NaN</td>\n",
       "      <td>NaN</td>\n",
       "      <td>NaN</td>\n",
       "      <td>NaN</td>\n",
       "      <td>NaN</td>\n",
       "      <td>NaN</td>\n",
       "      <td>NaN</td>\n",
       "      <td>01/06/2018 14:32:49</td>\n",
       "      <td>NaN</td>\n",
       "      <td>NaN</td>\n",
       "      <td>NaN</td>\n",
       "    </tr>\n",
       "    <tr>\n",
       "      <th>10611</th>\n",
       "      <td>NaN</td>\n",
       "      <td>NaN</td>\n",
       "      <td>NaN</td>\n",
       "      <td>NaN</td>\n",
       "      <td>NaN</td>\n",
       "      <td>NaN</td>\n",
       "      <td>NaN</td>\n",
       "      <td>01/06/2018 14:28:10</td>\n",
       "      <td>NaN</td>\n",
       "      <td>NaN</td>\n",
       "      <td>NaN</td>\n",
       "    </tr>\n",
       "    <tr>\n",
       "      <th>32128</th>\n",
       "      <td>NaN</td>\n",
       "      <td>NaN</td>\n",
       "      <td>NaN</td>\n",
       "      <td>NaN</td>\n",
       "      <td>NaN</td>\n",
       "      <td>NaN</td>\n",
       "      <td>NaN</td>\n",
       "      <td>26/05/2017 11:17:37</td>\n",
       "      <td>NaN</td>\n",
       "      <td>NaN</td>\n",
       "      <td>NaN</td>\n",
       "    </tr>\n",
       "    <tr>\n",
       "      <th>43772</th>\n",
       "      <td>Esta ingresando un pago y no le deja cargar el...</td>\n",
       "      <td>Micaela</td>\n",
       "      <td>NaN</td>\n",
       "      <td>27/06/2016 16:00</td>\n",
       "      <td>Finalizado</td>\n",
       "      <td>NaN</td>\n",
       "      <td>NaN</td>\n",
       "      <td>28/06/2016 9:28:04</td>\n",
       "      <td>NaN</td>\n",
       "      <td>NaN</td>\n",
       "      <td>NaN</td>\n",
       "    </tr>\n",
       "    <tr>\n",
       "      <th>...</th>\n",
       "      <td>...</td>\n",
       "      <td>...</td>\n",
       "      <td>...</td>\n",
       "      <td>...</td>\n",
       "      <td>...</td>\n",
       "      <td>...</td>\n",
       "      <td>...</td>\n",
       "      <td>...</td>\n",
       "      <td>...</td>\n",
       "      <td>...</td>\n",
       "      <td>...</td>\n",
       "    </tr>\n",
       "    <tr>\n",
       "      <th>44086</th>\n",
       "      <td>Tiene una consulta sobre como realizar el cost...</td>\n",
       "      <td>Micaela</td>\n",
       "      <td>NaN</td>\n",
       "      <td>NaN</td>\n",
       "      <td>NaN</td>\n",
       "      <td>NaN</td>\n",
       "      <td>NaN</td>\n",
       "      <td>20/06/2016 10:52:19</td>\n",
       "      <td>NaN</td>\n",
       "      <td>NaN</td>\n",
       "      <td>NaN</td>\n",
       "    </tr>\n",
       "    <tr>\n",
       "      <th>44087</th>\n",
       "      <td>Puesto de trabajo</td>\n",
       "      <td>exCecilia</td>\n",
       "      <td>NaN</td>\n",
       "      <td>NaN</td>\n",
       "      <td>NaN</td>\n",
       "      <td>NaN</td>\n",
       "      <td>NaN</td>\n",
       "      <td>20/06/2016 10:37:03</td>\n",
       "      <td>NaN</td>\n",
       "      <td>NaN</td>\n",
       "      <td>NaN</td>\n",
       "    </tr>\n",
       "    <tr>\n",
       "      <th>44088</th>\n",
       "      <td>correcciones E-factura</td>\n",
       "      <td>Micaela</td>\n",
       "      <td>NaN</td>\n",
       "      <td>NaN</td>\n",
       "      <td>NaN</td>\n",
       "      <td>NaN</td>\n",
       "      <td>NaN</td>\n",
       "      <td>20/06/2016 10:29:17</td>\n",
       "      <td>NaN</td>\n",
       "      <td>NaN</td>\n",
       "      <td>NaN</td>\n",
       "    </tr>\n",
       "    <tr>\n",
       "      <th>44089</th>\n",
       "      <td>Quiere hacer un recibo de cobro en una sucursa...</td>\n",
       "      <td>Micaela</td>\n",
       "      <td>NaN</td>\n",
       "      <td>NaN</td>\n",
       "      <td>NaN</td>\n",
       "      <td>NaN</td>\n",
       "      <td>NaN</td>\n",
       "      <td>20/06/2016 10:29:06</td>\n",
       "      <td>NaN</td>\n",
       "      <td>NaN</td>\n",
       "      <td>NaN</td>\n",
       "    </tr>\n",
       "    <tr>\n",
       "      <th>44090</th>\n",
       "      <td>Quiere sacar un balancete y no le salen las ci...</td>\n",
       "      <td>Micaela</td>\n",
       "      <td>NaN</td>\n",
       "      <td>NaN</td>\n",
       "      <td>NaN</td>\n",
       "      <td>NaN</td>\n",
       "      <td>NaN</td>\n",
       "      <td>20/06/2016 10:28:58</td>\n",
       "      <td>NaN</td>\n",
       "      <td>NaN</td>\n",
       "      <td>NaN</td>\n",
       "    </tr>\n",
       "  </tbody>\n",
       "</table>\n",
       "<p>323 rows × 11 columns</p>\n",
       "</div>"
      ],
      "text/plain": [
       "                                                   Texto     Agente Prioridad  \\\n",
       "10588                                                NaN        NaN       NaN   \n",
       "10598                                                NaN        NaN       NaN   \n",
       "10611                                                NaN        NaN       NaN   \n",
       "32128                                                NaN        NaN       NaN   \n",
       "43772  Esta ingresando un pago y no le deja cargar el...    Micaela       NaN   \n",
       "...                                                  ...        ...       ...   \n",
       "44086  Tiene una consulta sobre como realizar el cost...    Micaela       NaN   \n",
       "44087                                  Puesto de trabajo  exCecilia       NaN   \n",
       "44088                             correcciones E-factura    Micaela       NaN   \n",
       "44089  Quiere hacer un recibo de cobro en una sucursa...    Micaela       NaN   \n",
       "44090  Quiere sacar un balancete y no le salen las ci...    Micaela       NaN   \n",
       "\n",
       "          Fecha Ingreso      Estado Tipo Ticket  Cantidad de Llamados  \\\n",
       "10588               NaN         NaN         NaN                   NaN   \n",
       "10598               NaN         NaN         NaN                   NaN   \n",
       "10611               NaN         NaN         NaN                   NaN   \n",
       "32128               NaN         NaN         NaN                   NaN   \n",
       "43772  27/06/2016 16:00  Finalizado         NaN                   NaN   \n",
       "...                 ...         ...         ...                   ...   \n",
       "44086               NaN         NaN         NaN                   NaN   \n",
       "44087               NaN         NaN         NaN                   NaN   \n",
       "44088               NaN         NaN         NaN                   NaN   \n",
       "44089               NaN         NaN         NaN                   NaN   \n",
       "44090               NaN         NaN         NaN                   NaN   \n",
       "\n",
       "                    Cierre Especialidad Tipo de Producto Rating  \n",
       "10588  01/06/2018 14:37:26          NaN              NaN    NaN  \n",
       "10598  01/06/2018 14:32:49          NaN              NaN    NaN  \n",
       "10611  01/06/2018 14:28:10          NaN              NaN    NaN  \n",
       "32128  26/05/2017 11:17:37          NaN              NaN    NaN  \n",
       "43772   28/06/2016 9:28:04          NaN              NaN    NaN  \n",
       "...                    ...          ...              ...    ...  \n",
       "44086  20/06/2016 10:52:19          NaN              NaN    NaN  \n",
       "44087  20/06/2016 10:37:03          NaN              NaN    NaN  \n",
       "44088  20/06/2016 10:29:17          NaN              NaN    NaN  \n",
       "44089  20/06/2016 10:29:06          NaN              NaN    NaN  \n",
       "44090  20/06/2016 10:28:58          NaN              NaN    NaN  \n",
       "\n",
       "[323 rows x 11 columns]"
      ]
     },
     "execution_count": 11,
     "metadata": {},
     "output_type": "execute_result"
    }
   ],
   "source": [
    "df[df['Prioridad'].isnull()]"
   ]
  },
  {
   "cell_type": "code",
   "execution_count": 12,
   "metadata": {},
   "outputs": [],
   "source": [
    "rating = [random.randint(1,6) for i in range(len(df))]"
   ]
  },
  {
   "cell_type": "code",
   "execution_count": 13,
   "metadata": {},
   "outputs": [],
   "source": [
    "df['Rating'] = rating"
   ]
  },
  {
   "cell_type": "code",
   "execution_count": 14,
   "metadata": {},
   "outputs": [],
   "source": [
    "df['Prioridad'] = df['Prioridad'].fillna(stat.mode(df['Prioridad']))"
   ]
  },
  {
   "cell_type": "code",
   "execution_count": 15,
   "metadata": {},
   "outputs": [
    {
     "data": {
      "text/html": [
       "<div>\n",
       "<style scoped>\n",
       "    .dataframe tbody tr th:only-of-type {\n",
       "        vertical-align: middle;\n",
       "    }\n",
       "\n",
       "    .dataframe tbody tr th {\n",
       "        vertical-align: top;\n",
       "    }\n",
       "\n",
       "    .dataframe thead th {\n",
       "        text-align: right;\n",
       "    }\n",
       "</style>\n",
       "<table border=\"1\" class=\"dataframe\">\n",
       "  <thead>\n",
       "    <tr style=\"text-align: right;\">\n",
       "      <th></th>\n",
       "      <th>Texto</th>\n",
       "      <th>Agente</th>\n",
       "      <th>Prioridad</th>\n",
       "      <th>Fecha Ingreso</th>\n",
       "      <th>Estado</th>\n",
       "      <th>Tipo Ticket</th>\n",
       "      <th>Cantidad de Llamados</th>\n",
       "      <th>Cierre</th>\n",
       "      <th>Especialidad</th>\n",
       "      <th>Tipo de Producto</th>\n",
       "      <th>Rating</th>\n",
       "    </tr>\n",
       "  </thead>\n",
       "  <tbody>\n",
       "    <tr>\n",
       "      <th>0</th>\n",
       "      <td>pepe</td>\n",
       "      <td>Micaela</td>\n",
       "      <td>1. Máxima</td>\n",
       "      <td>16/05/2018 00:00</td>\n",
       "      <td>Esperando por cliente</td>\n",
       "      <td>Implementación</td>\n",
       "      <td>2.0</td>\n",
       "      <td>08/02/2021 12:43:07</td>\n",
       "      <td>NaN</td>\n",
       "      <td>NaN</td>\n",
       "      <td>2</td>\n",
       "    </tr>\n",
       "    <tr>\n",
       "      <th>1</th>\n",
       "      <td>qdfk{dfasdfasd</td>\n",
       "      <td>Micaela</td>\n",
       "      <td>1. Máxima</td>\n",
       "      <td>17/05/2018 00:00</td>\n",
       "      <td>Finalizado</td>\n",
       "      <td>Implementación</td>\n",
       "      <td>1.0</td>\n",
       "      <td>08/02/2021 12:41:34</td>\n",
       "      <td>NaN</td>\n",
       "      <td>NaN</td>\n",
       "      <td>2</td>\n",
       "    </tr>\n",
       "    <tr>\n",
       "      <th>2</th>\n",
       "      <td>Se realiza micro reunion lite</td>\n",
       "      <td>Majo</td>\n",
       "      <td>3. Media</td>\n",
       "      <td>21/10/2019 00:00</td>\n",
       "      <td>Finalizado</td>\n",
       "      <td>Implementación</td>\n",
       "      <td>NaN</td>\n",
       "      <td>21/10/2019 11:45:48</td>\n",
       "      <td>NaN</td>\n",
       "      <td>NaN</td>\n",
       "      <td>5</td>\n",
       "    </tr>\n",
       "    <tr>\n",
       "      <th>3</th>\n",
       "      <td>Se realiza micro reunion lite</td>\n",
       "      <td>Majo</td>\n",
       "      <td>3. Media</td>\n",
       "      <td>21/10/2019 00:00</td>\n",
       "      <td>Pendiente</td>\n",
       "      <td>Dudas de funcionamiento</td>\n",
       "      <td>NaN</td>\n",
       "      <td>21/10/2019 11:44:51</td>\n",
       "      <td>NaN</td>\n",
       "      <td>NaN</td>\n",
       "      <td>4</td>\n",
       "    </tr>\n",
       "    <tr>\n",
       "      <th>4</th>\n",
       "      <td>Configurar reportes de e factura</td>\n",
       "      <td>CamilaR</td>\n",
       "      <td>2. Alta</td>\n",
       "      <td>09/04/2019 00:00</td>\n",
       "      <td>Finalizado y Enviado</td>\n",
       "      <td>e-Factura</td>\n",
       "      <td>NaN</td>\n",
       "      <td>30/05/2019 10:26:30</td>\n",
       "      <td>NaN</td>\n",
       "      <td>NaN</td>\n",
       "      <td>2</td>\n",
       "    </tr>\n",
       "    <tr>\n",
       "      <th>...</th>\n",
       "      <td>...</td>\n",
       "      <td>...</td>\n",
       "      <td>...</td>\n",
       "      <td>...</td>\n",
       "      <td>...</td>\n",
       "      <td>...</td>\n",
       "      <td>...</td>\n",
       "      <td>...</td>\n",
       "      <td>...</td>\n",
       "      <td>...</td>\n",
       "      <td>...</td>\n",
       "    </tr>\n",
       "    <tr>\n",
       "      <th>44086</th>\n",
       "      <td>Tiene una consulta sobre como realizar el cost...</td>\n",
       "      <td>Micaela</td>\n",
       "      <td>3. Media</td>\n",
       "      <td>NaN</td>\n",
       "      <td>NaN</td>\n",
       "      <td>NaN</td>\n",
       "      <td>NaN</td>\n",
       "      <td>20/06/2016 10:52:19</td>\n",
       "      <td>NaN</td>\n",
       "      <td>NaN</td>\n",
       "      <td>4</td>\n",
       "    </tr>\n",
       "    <tr>\n",
       "      <th>44087</th>\n",
       "      <td>Puesto de trabajo</td>\n",
       "      <td>exCecilia</td>\n",
       "      <td>3. Media</td>\n",
       "      <td>NaN</td>\n",
       "      <td>NaN</td>\n",
       "      <td>NaN</td>\n",
       "      <td>NaN</td>\n",
       "      <td>20/06/2016 10:37:03</td>\n",
       "      <td>NaN</td>\n",
       "      <td>NaN</td>\n",
       "      <td>3</td>\n",
       "    </tr>\n",
       "    <tr>\n",
       "      <th>44088</th>\n",
       "      <td>correcciones E-factura</td>\n",
       "      <td>Micaela</td>\n",
       "      <td>3. Media</td>\n",
       "      <td>NaN</td>\n",
       "      <td>NaN</td>\n",
       "      <td>NaN</td>\n",
       "      <td>NaN</td>\n",
       "      <td>20/06/2016 10:29:17</td>\n",
       "      <td>NaN</td>\n",
       "      <td>NaN</td>\n",
       "      <td>4</td>\n",
       "    </tr>\n",
       "    <tr>\n",
       "      <th>44089</th>\n",
       "      <td>Quiere hacer un recibo de cobro en una sucursa...</td>\n",
       "      <td>Micaela</td>\n",
       "      <td>3. Media</td>\n",
       "      <td>NaN</td>\n",
       "      <td>NaN</td>\n",
       "      <td>NaN</td>\n",
       "      <td>NaN</td>\n",
       "      <td>20/06/2016 10:29:06</td>\n",
       "      <td>NaN</td>\n",
       "      <td>NaN</td>\n",
       "      <td>4</td>\n",
       "    </tr>\n",
       "    <tr>\n",
       "      <th>44090</th>\n",
       "      <td>Quiere sacar un balancete y no le salen las ci...</td>\n",
       "      <td>Micaela</td>\n",
       "      <td>3. Media</td>\n",
       "      <td>NaN</td>\n",
       "      <td>NaN</td>\n",
       "      <td>NaN</td>\n",
       "      <td>NaN</td>\n",
       "      <td>20/06/2016 10:28:58</td>\n",
       "      <td>NaN</td>\n",
       "      <td>NaN</td>\n",
       "      <td>3</td>\n",
       "    </tr>\n",
       "  </tbody>\n",
       "</table>\n",
       "<p>44091 rows × 11 columns</p>\n",
       "</div>"
      ],
      "text/plain": [
       "                                                   Texto     Agente  \\\n",
       "0                                                   pepe    Micaela   \n",
       "1                                         qdfk{dfasdfasd    Micaela   \n",
       "2                          Se realiza micro reunion lite       Majo   \n",
       "3                          Se realiza micro reunion lite       Majo   \n",
       "4                       Configurar reportes de e factura    CamilaR   \n",
       "...                                                  ...        ...   \n",
       "44086  Tiene una consulta sobre como realizar el cost...    Micaela   \n",
       "44087                                  Puesto de trabajo  exCecilia   \n",
       "44088                             correcciones E-factura    Micaela   \n",
       "44089  Quiere hacer un recibo de cobro en una sucursa...    Micaela   \n",
       "44090  Quiere sacar un balancete y no le salen las ci...    Micaela   \n",
       "\n",
       "       Prioridad     Fecha Ingreso                 Estado  \\\n",
       "0      1. Máxima  16/05/2018 00:00  Esperando por cliente   \n",
       "1      1. Máxima  17/05/2018 00:00             Finalizado   \n",
       "2       3. Media  21/10/2019 00:00             Finalizado   \n",
       "3       3. Media  21/10/2019 00:00              Pendiente   \n",
       "4        2. Alta  09/04/2019 00:00   Finalizado y Enviado   \n",
       "...          ...               ...                    ...   \n",
       "44086   3. Media               NaN                    NaN   \n",
       "44087   3. Media               NaN                    NaN   \n",
       "44088   3. Media               NaN                    NaN   \n",
       "44089   3. Media               NaN                    NaN   \n",
       "44090   3. Media               NaN                    NaN   \n",
       "\n",
       "                   Tipo Ticket  Cantidad de Llamados               Cierre  \\\n",
       "0               Implementación                   2.0  08/02/2021 12:43:07   \n",
       "1               Implementación                   1.0  08/02/2021 12:41:34   \n",
       "2               Implementación                   NaN  21/10/2019 11:45:48   \n",
       "3      Dudas de funcionamiento                   NaN  21/10/2019 11:44:51   \n",
       "4                    e-Factura                   NaN  30/05/2019 10:26:30   \n",
       "...                        ...                   ...                  ...   \n",
       "44086                      NaN                   NaN  20/06/2016 10:52:19   \n",
       "44087                      NaN                   NaN  20/06/2016 10:37:03   \n",
       "44088                      NaN                   NaN  20/06/2016 10:29:17   \n",
       "44089                      NaN                   NaN  20/06/2016 10:29:06   \n",
       "44090                      NaN                   NaN  20/06/2016 10:28:58   \n",
       "\n",
       "      Especialidad Tipo de Producto  Rating  \n",
       "0              NaN              NaN       2  \n",
       "1              NaN              NaN       2  \n",
       "2              NaN              NaN       5  \n",
       "3              NaN              NaN       4  \n",
       "4              NaN              NaN       2  \n",
       "...            ...              ...     ...  \n",
       "44086          NaN              NaN       4  \n",
       "44087          NaN              NaN       3  \n",
       "44088          NaN              NaN       4  \n",
       "44089          NaN              NaN       4  \n",
       "44090          NaN              NaN       3  \n",
       "\n",
       "[44091 rows x 11 columns]"
      ]
     },
     "execution_count": 15,
     "metadata": {},
     "output_type": "execute_result"
    }
   ],
   "source": [
    "df"
   ]
  },
  {
   "cell_type": "code",
   "execution_count": 16,
   "metadata": {},
   "outputs": [
    {
     "data": {
      "text/plain": [
       "array(['Esperando por cliente', 'Finalizado', 'Pendiente',\n",
       "       'Finalizado y Enviado', 'Finalizado y Seguimento Ok',\n",
       "       'Pre-pendiente', 'Global', 'Pasado a Tarea de Desarrollo',\n",
       "       'Finalizado y Seguimento Medio', 'Testeando', 'Esperando Pago',\n",
       "       'Trabajando', 'Visto', 'Finalizado y Seguimento Malo', nan],\n",
       "      dtype=object)"
      ]
     },
     "execution_count": 16,
     "metadata": {},
     "output_type": "execute_result"
    }
   ],
   "source": [
    "df['Estado'].unique()"
   ]
  },
  {
   "cell_type": "code",
   "execution_count": 17,
   "metadata": {},
   "outputs": [],
   "source": [
    "llamados = [random.randint(1,20) for i in range(len(df))]"
   ]
  },
  {
   "cell_type": "code",
   "execution_count": 18,
   "metadata": {},
   "outputs": [],
   "source": [
    "df['Cantidad de Llamados'] = llamados"
   ]
  },
  {
   "cell_type": "code",
   "execution_count": 19,
   "metadata": {},
   "outputs": [
    {
     "data": {
      "text/plain": [
       "array(['Micaela', 'Majo', 'CamilaR', 'Patricia', 'Camila', 'Fiza',\n",
       "       'CBarreto', 'Antonella', 'Carolina', 'exMLorenzo', 'Marianna',\n",
       "       'Johanna', 'Victoria', 'Natalia', 'Vanessa', 'Z exDario',\n",
       "       'Richard', 'Carlos', 'Luis', 'Zex SantiagoG', 'Marianella',\n",
       "       'exPablo', 'Alejandra', 'Gonzalo', 'Benito', 'exMaximiliano',\n",
       "       'Fabrizio', 'Erik', 'Z exIgnacio', 'exFederico', 'Verónica',\n",
       "       'exAgustin', 'Jennifer', nan, 'exJuanI', 'exEmmanuel',\n",
       "       'Z exSoledad', 'Andres', 'Ilana', 'Admin', 'exAlexis', 'exLucas',\n",
       "       'exCecilia', 'Z exGraciela', 'exJohanna', 'Z exMariana',\n",
       "       'Z exSofia', 'Z exPatricia', 'exGuillermo', 'exGimena',\n",
       "       'exNataliaB', 'exMaite', 'exRomina', 'exMartin'], dtype=object)"
      ]
     },
     "execution_count": 19,
     "metadata": {},
     "output_type": "execute_result"
    }
   ],
   "source": [
    "df['Agente'].unique()"
   ]
  },
  {
   "cell_type": "code",
   "execution_count": 20,
   "metadata": {},
   "outputs": [],
   "source": [
    "departamento = []\n",
    "\n",
    "for i in range(len(df)):\n",
    "    if (df['Agente'][i] == 'Z exGraciela') | (df['Agente'][i] == 'Verónica') | (df['Agente'][i] == 'Marianella') | (df['Agente'][i] == 'Carlos') | (df['Agente'][i] == 'Admin'):\n",
    "        departamento.append('Administración')\n",
    "    elif (df['Agente'][i] == 'exMLorenzo') | (df['Agente'][i] == 'Richard') | (df['Agente'][i] == 'exPablo') | (df['Agente'][i] == 'Alejandra') | (df['Agente'][i] == 'exMaximiliano') | (df['Agente'][i] == 'Fabrizio') | (df['Agente'][i] == 'Erik') | (df['Agente'][i] == 'exFederico') | (df['Agente'][i] == 'exAgustin') | (df['Agente'][i] == 'Andres') | (df['Agente'][i] == 'exAlexis') | (df['Agente'][i] == 'exMaite') | (df['Agente'][i] == 'exLucas'):\n",
    "        departamento.append('Programación')\n",
    "    elif (df['Agente'][i] == 'Z exIgnacio') | (df['Agente'][i] == 'Benito') | (df['Agente'][i] == 'Z exSoledad') | (df['Agente'][i] == 'Z exDario') | (df['Agente'][i] == 'Luis'):\n",
    "        departamento.append('Comercial')\n",
    "    else:\n",
    "        departamento.append('Soporte e Implementación')"
   ]
  },
  {
   "cell_type": "code",
   "execution_count": 21,
   "metadata": {},
   "outputs": [],
   "source": [
    "df['Departamento'] = departamento"
   ]
  },
  {
   "cell_type": "code",
   "execution_count": 22,
   "metadata": {},
   "outputs": [
    {
     "name": "stderr",
     "output_type": "stream",
     "text": [
      "[nltk_data] Downloading package stopwords to\n",
      "[nltk_data]     C:\\Users\\mirab\\AppData\\Roaming\\nltk_data...\n",
      "[nltk_data]   Package stopwords is already up-to-date!\n"
     ]
    }
   ],
   "source": [
    "nltk.download('stopwords')\n",
    "from nltk.corpus import stopwords\n",
    "stop_words_sp = set(stopwords.words('spanish'))"
   ]
  },
  {
   "cell_type": "code",
   "execution_count": 23,
   "metadata": {},
   "outputs": [
    {
     "data": {
      "text/plain": [
       "set"
      ]
     },
     "execution_count": 23,
     "metadata": {},
     "output_type": "execute_result"
    }
   ],
   "source": [
    "type(stop_words_sp)"
   ]
  },
  {
   "cell_type": "code",
   "execution_count": 24,
   "metadata": {},
   "outputs": [],
   "source": [
    "stop_words_sp.update(['quiere', 'puede', 'tiene', 'cuando', 'te paso', 'sacar', 'salen', 'se', 'configurar', 'consulta', 'hacer', 'realiza'])"
   ]
  },
  {
   "cell_type": "code",
   "execution_count": 25,
   "metadata": {},
   "outputs": [],
   "source": [
    "df['Texto'] = df['Texto'].astype(str)"
   ]
  },
  {
   "cell_type": "code",
   "execution_count": 26,
   "metadata": {},
   "outputs": [],
   "source": [
    "df['Texto'] = df['Texto'].str.lower()"
   ]
  },
  {
   "cell_type": "code",
   "execution_count": 27,
   "metadata": {},
   "outputs": [],
   "source": [
    "palabras = []\n",
    "texto_reformado = []\n",
    "texto = []\n",
    "\n",
    "for i in range(len(df)):\n",
    "    palabras.append(df['Texto'][i].split())\n",
    "    texto_reformado.append(['' if palabra in stop_words_sp else palabra for palabra in palabras[i]])\n",
    "    #texto = \"\".join(texto_reformado[i])\n",
    "    texto.append(\" \".join(str(m) for m in texto_reformado[i]))\n",
    "    "
   ]
  },
  {
   "cell_type": "code",
   "execution_count": 28,
   "metadata": {},
   "outputs": [],
   "source": [
    "df['Texto'] = texto"
   ]
  },
  {
   "cell_type": "code",
   "execution_count": 31,
   "metadata": {},
   "outputs": [],
   "source": [
    "tipo_producto = np.random.choice(['Go', 'Lite', 'Desktop', 'Contable'], size = len(df), p = [.4, .3, .2, .1])"
   ]
  },
  {
   "cell_type": "code",
   "execution_count": 32,
   "metadata": {},
   "outputs": [],
   "source": [
    "df['Tipo de Producto'] = tipo_producto"
   ]
  },
  {
   "cell_type": "code",
   "execution_count": 33,
   "metadata": {},
   "outputs": [
    {
     "data": {
      "text/plain": [
       "array(['Implementación', 'Dudas de funcionamiento', 'e-Factura',\n",
       "       'Soporte de Gentileza', 'Lite', 'Instalación', 'Error de Programa',\n",
       "       'Problemas de conexión', 'Reportes', 'Re-Instalación',\n",
       "       'Ajuste de Reporte', 'ADM-VENTAS', 'web', 'Desarrollo',\n",
       "       'Presupuesto', nan], dtype=object)"
      ]
     },
     "execution_count": 33,
     "metadata": {},
     "output_type": "execute_result"
    }
   ],
   "source": [
    "df['Tipo Ticket'].unique()"
   ]
  },
  {
   "cell_type": "code",
   "execution_count": 34,
   "metadata": {},
   "outputs": [],
   "source": [
    "df['Tipo Ticket'] = df['Tipo Ticket'].fillna('Dudas de funcionamiento')"
   ]
  },
  {
   "cell_type": "code",
   "execution_count": 39,
   "metadata": {},
   "outputs": [],
   "source": [
    "df['Texto'] = df['Texto'].str.lower()"
   ]
  },
  {
   "cell_type": "markdown",
   "metadata": {},
   "source": [
    "## Predecir temática través del texto de la consulta"
   ]
  },
  {
   "cell_type": "code",
   "execution_count": 41,
   "metadata": {},
   "outputs": [],
   "source": [
    "tematica = pd.DataFrame(df, columns = ['Texto', 'Especialidad'])"
   ]
  },
  {
   "cell_type": "code",
   "execution_count": 42,
   "metadata": {},
   "outputs": [],
   "source": [
    "contabilidad = ['balancete', 'asientos', 'asiento', 'cierre', 'diferencia cambio', 'informe', 'informes', 'conciliacion', 'cuenta']\n",
    "facturacion = ['recibo cobro', 'nota credito', 'pedido', 'sucursal', 'factura', 'facturar', 'precios', 'cobranza']\n",
    "stock = ['inventario', 'stock', 'almacen', 'deposito', 'unidades', 'materia prima', 'costeo', 'modulo procesos', 'valorado', 'asistente procesos']\n",
    "efactura = ['certificar', 'e-factura', 'efactura', 'postular', 'checklist', 'reportes gestion', 'check list', 'resguardo', 'resguardos', 'sobres', 'rechazados', 'e-ticket', 'eticket', 'certificado']\n",
    "instalacion = ['configurar', 'instalar', 'licencia', 'reinstalar', 'conectar', 'logo', 'conexión', 'impresion', 'respaldar']\n",
    "implementacion = ['micro reunion', 'imple', 'implementacion']"
   ]
  },
  {
   "cell_type": "code",
   "execution_count": 43,
   "metadata": {},
   "outputs": [],
   "source": [
    "tipos_consultas = contabilidad + facturacion + stock + efactura + instalacion + implementacion"
   ]
  },
  {
   "cell_type": "code",
   "execution_count": 44,
   "metadata": {},
   "outputs": [],
   "source": [
    "esp = [0] * len(tematica)"
   ]
  },
  {
   "cell_type": "code",
   "execution_count": 45,
   "metadata": {},
   "outputs": [],
   "source": [
    "for clave in tipos_consultas:\n",
    "    for i in range(len(tematica)):\n",
    "        if (tematica['Texto'][i].find(clave)==-1) & (esp[i] == 0):\n",
    "            esp[i] = 'Otra'\n",
    "        elif (tematica['Texto'][i].find(clave)==-1) & (esp[i] != 'Otra'):\n",
    "            esp[i] = esp[i]\n",
    "        elif (tematica['Texto'][i].find(clave)==-1) & (esp[i] == 'Otra'):\n",
    "            esp[i] = 'Otra'\n",
    "        elif (tematica['Texto'][i].find(clave) > 0) & (esp[i] == 'Otra'):\n",
    "            esp[i] = clave\n",
    "        elif (tematica['Texto'][i].find(clave) > 0) & (esp[i] != 'Otra'):\n",
    "            esp[i] = clave\n",
    "        elif (tematica['Texto'][i].find(clave) > 0) & (esp[i] == 0):\n",
    "            esp[i] = clave"
   ]
  },
  {
   "cell_type": "code",
   "execution_count": 46,
   "metadata": {},
   "outputs": [],
   "source": [
    "tematica['Especialidad'] = esp"
   ]
  },
  {
   "cell_type": "code",
   "execution_count": 47,
   "metadata": {},
   "outputs": [
    {
     "data": {
      "text/plain": [
       "44091"
      ]
     },
     "execution_count": 47,
     "metadata": {},
     "output_type": "execute_result"
    }
   ],
   "source": [
    "len(esp)"
   ]
  },
  {
   "cell_type": "code",
   "execution_count": 48,
   "metadata": {},
   "outputs": [
    {
     "data": {
      "text/plain": [
       "array(['Otra', 'micro reunion', 'factura', 'valorado', 'stock', 'imple',\n",
       "       'pedido', 'e-factura', 'certificar', 'facturar', 'licencia',\n",
       "       'resguardos', 'informe', 'rechazados', 'conexión', 'informes',\n",
       "       'logo', 'conectar', 'cuenta', 'resguardo', 'implementacion',\n",
       "       'cierre', 'efactura', 'certificado', 'instalar', 'precios',\n",
       "       'impresion', 'cobranza', 'sobres', 'check list', 'sucursal',\n",
       "       'configurar', 'unidades', 'eticket', 'asiento', 'balancete',\n",
       "       'inventario', 'deposito', 'e-ticket', 'almacen', 'costeo',\n",
       "       'reinstalar', 'postular', 'checklist', 'reportes gestion',\n",
       "       'nota credito', 'conciliacion', 'materia prima',\n",
       "       'asistente procesos', 'diferencia cambio'], dtype=object)"
      ]
     },
     "execution_count": 48,
     "metadata": {},
     "output_type": "execute_result"
    }
   ],
   "source": [
    "tematica['Especialidad'].unique()"
   ]
  },
  {
   "cell_type": "code",
   "execution_count": 50,
   "metadata": {},
   "outputs": [],
   "source": [
    "tema_llamado = []\n",
    "\n",
    "for i in range(len(tematica)):\n",
    "    if tematica['Especialidad'][i] in contabilidad:\n",
    "        tema_llamado.append('Contabilidad')\n",
    "    elif tematica['Especialidad'][i] in facturacion:\n",
    "        tema_llamado.append('Facturación')\n",
    "    elif tematica['Especialidad'][i] in stock:\n",
    "        tema_llamado.append('Stock')\n",
    "    elif tematica['Especialidad'][i] in efactura:\n",
    "        tema_llamado.append('Facturación Electrónica')\n",
    "    elif tematica['Especialidad'][i] in instalacion:\n",
    "        tema_llamado.append('Instalación y Reportes')\n",
    "    elif tematica['Especialidad'][i] in implementacion:\n",
    "        tema_llamado.append('Implementación')\n",
    "    elif tematica['Especialidad'][i] not in tipos_consultas:\n",
    "        tema_llamado.append('Otra')"
   ]
  },
  {
   "cell_type": "code",
   "execution_count": 51,
   "metadata": {},
   "outputs": [
    {
     "data": {
      "text/plain": [
       "44091"
      ]
     },
     "execution_count": 51,
     "metadata": {},
     "output_type": "execute_result"
    }
   ],
   "source": [
    "len(tema_llamado)"
   ]
  },
  {
   "cell_type": "code",
   "execution_count": 53,
   "metadata": {},
   "outputs": [],
   "source": [
    "tematica['Especialidad'] = tema_llamado\n",
    "df['Especialidad'] = tema_llamado"
   ]
  },
  {
   "cell_type": "code",
   "execution_count": 54,
   "metadata": {},
   "outputs": [
    {
     "data": {
      "text/html": [
       "<div>\n",
       "<style scoped>\n",
       "    .dataframe tbody tr th:only-of-type {\n",
       "        vertical-align: middle;\n",
       "    }\n",
       "\n",
       "    .dataframe tbody tr th {\n",
       "        vertical-align: top;\n",
       "    }\n",
       "\n",
       "    .dataframe thead th {\n",
       "        text-align: right;\n",
       "    }\n",
       "</style>\n",
       "<table border=\"1\" class=\"dataframe\">\n",
       "  <thead>\n",
       "    <tr style=\"text-align: right;\">\n",
       "      <th></th>\n",
       "      <th>Especialidad</th>\n",
       "      <th>count</th>\n",
       "    </tr>\n",
       "  </thead>\n",
       "  <tbody>\n",
       "    <tr>\n",
       "      <th>5</th>\n",
       "      <td>Otra</td>\n",
       "      <td>26508</td>\n",
       "    </tr>\n",
       "    <tr>\n",
       "      <th>1</th>\n",
       "      <td>Facturación</td>\n",
       "      <td>6352</td>\n",
       "    </tr>\n",
       "    <tr>\n",
       "      <th>4</th>\n",
       "      <td>Instalación y Reportes</td>\n",
       "      <td>4110</td>\n",
       "    </tr>\n",
       "    <tr>\n",
       "      <th>2</th>\n",
       "      <td>Facturación Electrónica</td>\n",
       "      <td>2686</td>\n",
       "    </tr>\n",
       "    <tr>\n",
       "      <th>0</th>\n",
       "      <td>Contabilidad</td>\n",
       "      <td>2009</td>\n",
       "    </tr>\n",
       "    <tr>\n",
       "      <th>6</th>\n",
       "      <td>Stock</td>\n",
       "      <td>1372</td>\n",
       "    </tr>\n",
       "    <tr>\n",
       "      <th>3</th>\n",
       "      <td>Implementación</td>\n",
       "      <td>1054</td>\n",
       "    </tr>\n",
       "  </tbody>\n",
       "</table>\n",
       "</div>"
      ],
      "text/plain": [
       "              Especialidad  count\n",
       "5                     Otra  26508\n",
       "1              Facturación   6352\n",
       "4   Instalación y Reportes   4110\n",
       "2  Facturación Electrónica   2686\n",
       "0             Contabilidad   2009\n",
       "6                    Stock   1372\n",
       "3           Implementación   1054"
      ]
     },
     "execution_count": 54,
     "metadata": {},
     "output_type": "execute_result"
    }
   ],
   "source": [
    "tematica['Especialidad'].groupby(tematica['Especialidad']).count().reset_index(name='count').sort_values(['count'], ascending=False)"
   ]
  },
  {
   "cell_type": "code",
   "execution_count": 55,
   "metadata": {},
   "outputs": [
    {
     "data": {
      "image/png": "[encoded data removed]",
      "text/plain": [
       "<Figure size 432x288 with 1 Axes>"
      ]
     },
     "metadata": {
      "needs_background": "light"
     },
     "output_type": "display_data"
    }
   ],
   "source": [
    "#Desbalanceamiento. Si usaramos éstos datos para modelo de machine learning el modelo aprenderia mucho mas de \"Otras\" que de las demás categorías. Por lo que hay que corregirlo.\n",
    "sns.countplot(tematica['Especialidad'])\n",
    "sns.set(rc={'figure.figsize':(16,9)})"
   ]
  },
  {
   "cell_type": "code",
   "execution_count": 56,
   "metadata": {},
   "outputs": [],
   "source": [
    "#Clases minoritarias:\n",
    "otras_mayor = tematica[tematica['Especialidad']=='Otra']\n",
    "conta_minor = tematica[tematica['Especialidad']=='Contabilidad']\n",
    "imple_minor = tematica[tematica['Especialidad']=='Implementación']\n",
    "factu_minor = tematica[tematica['Especialidad']=='Facturación']\n",
    "stock_minor = tematica[tematica['Especialidad']=='Stock']\n",
    "insta_minor = tematica[tematica['Especialidad']=='Instalación y Reportes']\n",
    "efact_minor = tematica[tematica['Especialidad']=='Facturación Electrónica']"
   ]
  },
  {
   "cell_type": "code",
   "execution_count": 57,
   "metadata": {},
   "outputs": [],
   "source": [
    "from sklearn.utils import resample\n",
    "\n",
    "efact_minor_upsampled = resample(efact_minor, replace = True, n_samples = len(tematica[tematica['Especialidad']=='Otra']), random_state = 1)\n",
    "insta_minor_upsampled = resample(insta_minor, replace = True, n_samples = len(tematica[tematica['Especialidad']=='Otra']), random_state = 1)\n",
    "stock_minor_upsampled = resample(stock_minor, replace = True, n_samples = len(tematica[tematica['Especialidad']=='Otra']), random_state = 1)\n",
    "factu_minor_upsampled = resample(factu_minor, replace = True, n_samples = len(tematica[tematica['Especialidad']=='Otra']), random_state = 1)\n",
    "imple_minor_upsampled = resample(imple_minor, replace = True, n_samples = len(tematica[tematica['Especialidad']=='Otra']), random_state = 1)\n",
    "conta_minor_upsampled = resample(conta_minor, replace = True, n_samples = len(tematica[tematica['Especialidad']=='Otra']), random_state = 1)\n"
   ]
  },
  {
   "cell_type": "code",
   "execution_count": 58,
   "metadata": {},
   "outputs": [],
   "source": [
    "tematica_balanceada = pd.concat([otras_mayor, efact_minor_upsampled, insta_minor_upsampled, stock_minor_upsampled, factu_minor_upsampled, imple_minor_upsampled, conta_minor_upsampled])"
   ]
  },
  {
   "cell_type": "code",
   "execution_count": 59,
   "metadata": {},
   "outputs": [
    {
     "data": {
      "text/plain": [
       "185556"
      ]
     },
     "execution_count": 59,
     "metadata": {},
     "output_type": "execute_result"
    }
   ],
   "source": [
    "len(tematica_balanceada)"
   ]
  },
  {
   "cell_type": "code",
   "execution_count": 60,
   "metadata": {},
   "outputs": [
    {
     "data": {
      "image/png": "[encoded data removed]",
      "text/plain": [
       "<Figure size 1152x648 with 1 Axes>"
      ]
     },
     "metadata": {},
     "output_type": "display_data"
    }
   ],
   "source": [
    "sns.countplot(tematica_balanceada['Especialidad'])\n",
    "sns.set(rc={'figure.figsize':(16,9)})"
   ]
  },
  {
   "cell_type": "code",
   "execution_count": 61,
   "metadata": {},
   "outputs": [],
   "source": [
    "todas_consultas = tematica_balanceada['Texto'].tolist()"
   ]
  },
  {
   "cell_type": "code",
   "execution_count": 62,
   "metadata": {},
   "outputs": [],
   "source": [
    "etiquetas = tematica_balanceada['Especialidad'].tolist()"
   ]
  },
  {
   "cell_type": "markdown",
   "metadata": {},
   "source": [
    "## Crear datos de entrenamiento y test"
   ]
  },
  {
   "cell_type": "code",
   "execution_count": 63,
   "metadata": {},
   "outputs": [],
   "source": [
    "from sklearn.model_selection import train_test_split\n",
    "\n",
    "train_data, test_data, train_labels, test_labels = train_test_split(todas_consultas, etiquetas, test_size = 0.2, random_state = 1)"
   ]
  },
  {
   "cell_type": "code",
   "execution_count": 64,
   "metadata": {},
   "outputs": [
    {
     "name": "stdout",
     "output_type": "stream",
     "text": [
      "148444\n",
      "37112\n"
     ]
    }
   ],
   "source": [
    "print(len(train_data))\n",
    "print(len(test_data))"
   ]
  },
  {
   "cell_type": "markdown",
   "metadata": {},
   "source": [
    "## Hacer Count Vector "
   ]
  },
  {
   "cell_type": "code",
   "execution_count": 65,
   "metadata": {},
   "outputs": [],
   "source": [
    "from sklearn.feature_extraction.text import CountVectorizer\n",
    "\n",
    "counter = CountVectorizer()\n",
    "counter.fit(train_data)\n",
    "train_counts = counter.transform(train_data)\n",
    "test_counts = counter.transform(test_data)"
   ]
  },
  {
   "cell_type": "code",
   "execution_count": 66,
   "metadata": {},
   "outputs": [
    {
     "name": "stdout",
     "output_type": "stream",
     "text": [
      "reinstalar zfc   pidió crédito, id  cliente 6171\n",
      "  (0, 7261)\t1\n",
      "  (0, 13936)\t1\n",
      "  (0, 15276)\t1\n",
      "  (0, 19072)\t1\n",
      "  (0, 22668)\t1\n",
      "  (0, 24047)\t1\n",
      "  (0, 27229)\t1\n"
     ]
    }
   ],
   "source": [
    "print(train_data[5])\n",
    "print(train_counts[5])"
   ]
  },
  {
   "cell_type": "markdown",
   "metadata": {},
   "source": [
    "## Entrenar y testear Naive Bayes Classifier"
   ]
  },
  {
   "cell_type": "code",
   "execution_count": 67,
   "metadata": {},
   "outputs": [],
   "source": [
    "from sklearn.naive_bayes import MultinomialNB\n",
    "\n",
    "classifier = MultinomialNB()\n",
    "classifier.fit(train_counts, train_labels)\n",
    "predictions = classifier.predict(test_counts)"
   ]
  },
  {
   "cell_type": "markdown",
   "metadata": {},
   "source": [
    "## Evaluar modelo"
   ]
  },
  {
   "cell_type": "code",
   "execution_count": 68,
   "metadata": {},
   "outputs": [
    {
     "name": "stdout",
     "output_type": "stream",
     "text": [
      "0.8737066178055616\n"
     ]
    }
   ],
   "source": [
    "from sklearn.metrics import accuracy_score\n",
    "\n",
    "print(accuracy_score(test_labels, predictions))"
   ]
  },
  {
   "cell_type": "code",
   "execution_count": 69,
   "metadata": {},
   "outputs": [
    {
     "name": "stdout",
     "output_type": "stream",
     "text": [
      "[[5234    9    8   23   12    9   42]\n",
      " [  35 4320  379   44  243    3  182]\n",
      " [  21  140 5032   30   28   13    5]\n",
      " [   0    3    7 5261   11    9    5]\n",
      " [  24   22   74   21 5087   35    7]\n",
      " [ 532  595  656  346  678 2257  357]\n",
      " [   7   11    0   55    5    1 5234]]\n"
     ]
    }
   ],
   "source": [
    "from sklearn.metrics import confusion_matrix\n",
    "\n",
    "print(confusion_matrix(test_labels, predictions))"
   ]
  },
  {
   "cell_type": "markdown",
   "metadata": {},
   "source": [
    "## Testear nuevas consultas "
   ]
  },
  {
   "cell_type": "code",
   "execution_count": 70,
   "metadata": {},
   "outputs": [
    {
     "name": "stdout",
     "output_type": "stream",
     "text": [
      "['Contabilidad']\n"
     ]
    }
   ],
   "source": [
    "consulta = \"sacar balancete de saldos actualizado\"\n",
    "consulta_count = counter.transform([consulta])\n",
    "print(classifier.predict(consulta_count))"
   ]
  },
  {
   "cell_type": "code",
   "execution_count": 71,
   "metadata": {},
   "outputs": [
    {
     "name": "stdout",
     "output_type": "stream",
     "text": [
      "['Facturación']\n"
     ]
    }
   ],
   "source": [
    "consulta2 = \"Desde el estudio contable de esta empresa nos están solicitando crear un artículo exento, que tenga indicador de facturación 12 (que viaje a DGI como IVA en suspenso). ¿Cómo podemos hacer eso en el sistema?\"\n",
    "consulta2_count = counter.transform([consulta2])\n",
    "print(classifier.predict(consulta2_count))"
   ]
  },
  {
   "cell_type": "code",
   "execution_count": 72,
   "metadata": {},
   "outputs": [
    {
     "name": "stdout",
     "output_type": "stream",
     "text": [
      "['Otra']\n"
     ]
    }
   ],
   "source": [
    "consulta3 = \"Hola, ya tengo una versión instalada del ZUREO CONTABLE pero quiero saber si con la versión de prueba puedo ingresar alguna empresa o que necesito para empezar a usarlo. Desde ya muchas gracias.\"\n",
    "consulta3_count = counter.transform([consulta3])\n",
    "print(classifier.predict(consulta3_count))"
   ]
  },
  {
   "cell_type": "code",
   "execution_count": 73,
   "metadata": {},
   "outputs": [
    {
     "name": "stdout",
     "output_type": "stream",
     "text": [
      "['Otra']\n"
     ]
    }
   ],
   "source": [
    "consulta4 = \"mostrale a la contadora y me va a entender yo vendo en dolares y vendo en pesos, seria una tarea bastante engorrosa colocar a mano la cotizacion de las ventas cada dia en dolares para pasarle al contador la informacion mensual\"\n",
    "consulta4_count = counter.transform([consulta4])\n",
    "print(classifier.predict(consulta4_count))"
   ]
  },
  {
   "cell_type": "code",
   "execution_count": 74,
   "metadata": {},
   "outputs": [
    {
     "name": "stdout",
     "output_type": "stream",
     "text": [
      "['Facturación']\n"
     ]
    }
   ],
   "source": [
    "consulta5 = \"Hola como están? les paso dos errores 1 - el articulo seat cover hay uno de ellos que no me deja pasarlo a fuera de uso ni editarle el nombre 2 - La opción de dejar comprobante contado predeterminado no esta funcionando, siempre que facturamos queda como compra contado. Ambas situaciones son en zureo BETA\"\n",
    "consulta5_count = counter.transform([consulta5])\n",
    "print(classifier.predict(consulta5_count))"
   ]
  },
  {
   "cell_type": "code",
   "execution_count": 76,
   "metadata": {},
   "outputs": [
    {
     "name": "stdout",
     "output_type": "stream",
     "text": [
      "['Otra']\n"
     ]
    }
   ],
   "source": [
    "consulta6 = \"Te comento que quise respaldar y me sale erro BDS QL y el otro día en dos oportunidades  al ver el estado de cta de un proveedor me salio error al iniciar la clase de  listas y el sistema  perdió conexión  al servidor base de datos\"\n",
    "consulta6_count = counter.transform([consulta6])\n",
    "print(classifier.predict(consulta6_count))"
   ]
  },
  {
   "cell_type": "code",
   "execution_count": 77,
   "metadata": {},
   "outputs": [
    {
     "name": "stdout",
     "output_type": "stream",
     "text": [
      "['Contabilidad']\n"
     ]
    }
   ],
   "source": [
    "consulta7 = \"y poder ver estados de cuentas a pagar y marcar después de pagas, en un capacitacion on line que hicieron estaban hablando de eso pero se me complicó el trabajo \"\n",
    "consulta7_count = counter.transform([consulta7])\n",
    "print(classifier.predict(consulta7_count))"
   ]
  }
 ],
 "metadata": {
  "kernelspec": {
   "display_name": "Python 3",
   "language": "python",
   "name": "python3"
  },
  "language_info": {
   "codemirror_mode": {
    "name": "ipython",
    "version": 3
   },
   "file_extension": ".py",
   "mimetype": "text/x-python",
   "name": "python",
   "nbconvert_exporter": "python",
   "pygments_lexer": "ipython3",
   "version": "3.8.3"
  }
 },
 "nbformat": 4,
 "nbformat_minor": 4
}
